{
 "cells": [
  {
   "cell_type": "markdown",
   "id": "0050fe2e",
   "metadata": {},
   "source": [
    "#  Big Data in Law Enforcement"
   ]
  },
  {
   "cell_type": "markdown",
   "id": "ea273a01",
   "metadata": {},
   "source": [
    "## Introduction \n",
    "Big data is a combination of structured, semistructured and unstructured data collected by organizations that can be mined for information and used in machine learning projects, predictive modeling and other advanced analytics applications."
   ]
  },
  {
   "cell_type": "markdown",
   "id": "0521d2a0",
   "metadata": {},
   "source": [
    "## Objectives\n",
    "- Popular Data Scientists Languages\n",
    "- Common Libraries\n",
    "- Data Science Tools\n",
    "- Arithmetic expression"
   ]
  },
  {
   "cell_type": "markdown",
   "id": "d9b3b1fa",
   "metadata": {},
   "source": [
    "### Some of the popular languages that Data Scientists use are:\n",
    "1. Python\n",
    "2. Javascript\n",
    "3. MATLAB \n"
   ]
  },
  {
   "cell_type": "markdown",
   "id": "1613ab9e",
   "metadata": {},
   "source": [
    "### Some of the commonly used libraries used by Data Scientist include:\n",
    "- Pandas\n",
    "- Matplotlib\n",
    "- NumPy"
   ]
  },
  {
   "cell_type": "markdown",
   "id": "9de08f06",
   "metadata": {},
   "source": [
    "# Data Science Tools. \n",
    "|Data Science Tools |\n",
    "| ------------------|  \n",
    "| Spyder |\n",
    "| PyCharm |\n",
    "| JupyterLab|\n",
    "|Visual Studio Code|"
   ]
  },
  {
   "cell_type": "markdown",
   "id": "c45256da",
   "metadata": {},
   "source": [
    "### Below are a few examples of evaluating arithmetic expressions in Python"
   ]
  },
  {
   "cell_type": "code",
   "execution_count": 7,
   "id": "cdbfed4e",
   "metadata": {},
   "outputs": [
    {
     "data": {
      "text/plain": [
       "98"
      ]
     },
     "execution_count": 7,
     "metadata": {},
     "output_type": "execute_result"
    }
   ],
   "source": [
    "# This is a simple arithmetic expression:\n",
    "(14+25)*3-19"
   ]
  },
  {
   "cell_type": "code",
   "execution_count": 9,
   "id": "4c4d5db5",
   "metadata": {},
   "outputs": [
    {
     "data": {
      "text/plain": [
       "5.0"
      ]
     },
     "execution_count": 9,
     "metadata": {},
     "output_type": "execute_result"
    }
   ],
   "source": [
    "#This will convert 300 minutes to hours by dividing by 60.\n",
    "300/60"
   ]
  },
  {
   "cell_type": "markdown",
   "id": "5cec05ea",
   "metadata": {},
   "source": [
    "### Author: Soltanbekova Tolganay"
   ]
  },
  {
   "cell_type": "code",
   "execution_count": null,
   "id": "5c9aa86d",
   "metadata": {},
   "outputs": [],
   "source": []
  }
 ],
 "metadata": {
  "kernelspec": {
   "display_name": "Python 3 (ipykernel)",
   "language": "python",
   "name": "python3"
  },
  "language_info": {
   "codemirror_mode": {
    "name": "ipython",
    "version": 3
   },
   "file_extension": ".py",
   "mimetype": "text/x-python",
   "name": "python",
   "nbconvert_exporter": "python",
   "pygments_lexer": "ipython3",
   "version": "3.11.5"
  }
 },
 "nbformat": 4,
 "nbformat_minor": 5
}
